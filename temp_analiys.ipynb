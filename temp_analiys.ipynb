{
 "cells": [
  {
   "cell_type": "markdown",
   "id": "2476ac0d",
   "metadata": {},
   "source": [
    "https://comrade-xl.ru/2021/08/05/py-combine-xl-sheets/"
   ]
  },
  {
   "cell_type": "code",
   "execution_count": 1,
   "id": "dd2387cb",
   "metadata": {
    "scrolled": true
   },
   "outputs": [],
   "source": [
    "#!pip install xlrd\n",
    "\n",
    "#!pip install --py luxwidget\n",
    "#!pip enable --py luxwidget"
   ]
  },
  {
   "cell_type": "code",
   "execution_count": 2,
   "id": "2cea7fab",
   "metadata": {},
   "outputs": [],
   "source": [
    "import pandas as pd\n",
    "import xlwings as xw\n",
    "import xlrd\n",
    "import seaborn as sns\n",
    "import matplotlib.pyplot as plt\n",
    "#import lux"
   ]
  },
  {
   "cell_type": "markdown",
   "id": "a3fa3856",
   "metadata": {},
   "source": [
    "Створюємо об'єкт ExcelFile."
   ]
  },
  {
   "cell_type": "code",
   "execution_count": 3,
   "id": "32167bdf",
   "metadata": {
    "scrolled": false
   },
   "outputs": [],
   "source": [
    "xlsx=pd.ExcelFile('temp_datas.xls')"
   ]
  },
  {
   "cell_type": "markdown",
   "id": "56c9dafa",
   "metadata": {},
   "source": [
    "Отримуємо список книг"
   ]
  },
  {
   "cell_type": "code",
   "execution_count": 4,
   "id": "7da4b82f",
   "metadata": {},
   "outputs": [],
   "source": [
    "worksheets = xlsx.sheet_names"
   ]
  },
  {
   "cell_type": "markdown",
   "id": "67137d3b",
   "metadata": {},
   "source": [
    "Створюємо список, в якому кожний елемент - це датафрейм із однієї книги."
   ]
  },
  {
   "cell_type": "code",
   "execution_count": 5,
   "id": "43d6ab56",
   "metadata": {},
   "outputs": [],
   "source": [
    "worksheets_dfs = []\n",
    "\n",
    "for worksheet in worksheets:\n",
    "    data = pd.read_excel(xlsx,\n",
    "                         sheet_name=worksheet)\n",
    "    data['worksheet'] = worksheet\n",
    "    worksheets_dfs.append(data)"
   ]
  },
  {
   "cell_type": "markdown",
   "id": "2b92bcea",
   "metadata": {},
   "source": [
    "Обєднати всі датафрейми із списку."
   ]
  },
  {
   "cell_type": "code",
   "execution_count": 6,
   "id": "e359eced",
   "metadata": {},
   "outputs": [],
   "source": [
    "meteo_data = pd.concat(worksheets_dfs)"
   ]
  },
  {
   "cell_type": "code",
   "execution_count": 7,
   "id": "f8300bd7",
   "metadata": {},
   "outputs": [],
   "source": [
    "meteo_data[\"date\"]=pd.to_datetime(meteo_data[\"Timestamp for sample frequency every 1 min\"]).dt.date\n",
    "meteo_data[\"months\"]=pd.to_datetime(meteo_data[\"Timestamp for sample frequency every 1 min\"]).dt.month_name()"
   ]
  },
  {
   "cell_type": "code",
   "execution_count": 8,
   "id": "20d6468c",
   "metadata": {
    "scrolled": false
   },
   "outputs": [],
   "source": [
    "#meteo_data.head()\n",
    "#meteo_data.sample(5)"
   ]
  },
  {
   "cell_type": "code",
   "execution_count": 9,
   "id": "baed674a",
   "metadata": {},
   "outputs": [
    {
     "data": {
      "text/plain": [
       "<AxesSubplot:xlabel='months', ylabel='Temperature_Celsius'>"
      ]
     },
     "execution_count": 9,
     "metadata": {},
     "output_type": "execute_result"
    },
    {
     "data": {
      "image/png": "[encoded data removed]",
      "text/plain": [
       "<Figure size 432x288 with 1 Axes>"
      ]
     },
     "metadata": {
      "needs_background": "light"
     },
     "output_type": "display_data"
    }
   ],
   "source": [
    "%matplotlib inline\n",
    "\n",
    "sns.boxplot(x=\"months\", y=\"Temperature_Celsius\", data=meteo_data)"
   ]
  },
  {
   "cell_type": "code",
   "execution_count": 10,
   "id": "989fac85",
   "metadata": {},
   "outputs": [
    {
     "data": {
      "text/html": [
       "<div>\n",
       "<style scoped>\n",
       "    .dataframe tbody tr th:only-of-type {\n",
       "        vertical-align: middle;\n",
       "    }\n",
       "\n",
       "    .dataframe tbody tr th {\n",
       "        vertical-align: top;\n",
       "    }\n",
       "\n",
       "    .dataframe thead th {\n",
       "        text-align: right;\n",
       "    }\n",
       "</style>\n",
       "<table border=\"1\" class=\"dataframe\">\n",
       "  <thead>\n",
       "    <tr style=\"text-align: right;\">\n",
       "      <th></th>\n",
       "      <th>Temperature_Celsius</th>\n",
       "      <th>Relative_Humidity</th>\n",
       "      <th>VPD</th>\n",
       "      <th>DEWPOINT_Celsius</th>\n",
       "    </tr>\n",
       "  </thead>\n",
       "  <tbody>\n",
       "    <tr>\n",
       "      <th>count</th>\n",
       "      <td>233924.000000</td>\n",
       "      <td>233924.000000</td>\n",
       "      <td>233924.000000</td>\n",
       "      <td>233924.000000</td>\n",
       "    </tr>\n",
       "    <tr>\n",
       "      <th>mean</th>\n",
       "      <td>6.506390</td>\n",
       "      <td>67.239271</td>\n",
       "      <td>0.414069</td>\n",
       "      <td>0.240799</td>\n",
       "    </tr>\n",
       "    <tr>\n",
       "      <th>std</th>\n",
       "      <td>7.970312</td>\n",
       "      <td>17.459970</td>\n",
       "      <td>0.421722</td>\n",
       "      <td>6.793514</td>\n",
       "    </tr>\n",
       "    <tr>\n",
       "      <th>min</th>\n",
       "      <td>-10.781494</td>\n",
       "      <td>15.617889</td>\n",
       "      <td>0.001900</td>\n",
       "      <td>-14.292800</td>\n",
       "    </tr>\n",
       "    <tr>\n",
       "      <th>25%</th>\n",
       "      <td>0.007954</td>\n",
       "      <td>55.021805</td>\n",
       "      <td>0.135000</td>\n",
       "      <td>-4.885800</td>\n",
       "    </tr>\n",
       "    <tr>\n",
       "      <th>50%</th>\n",
       "      <td>5.467030</td>\n",
       "      <td>70.534270</td>\n",
       "      <td>0.251700</td>\n",
       "      <td>-1.205050</td>\n",
       "    </tr>\n",
       "    <tr>\n",
       "      <th>75%</th>\n",
       "      <td>12.320366</td>\n",
       "      <td>80.978910</td>\n",
       "      <td>0.520825</td>\n",
       "      <td>5.547700</td>\n",
       "    </tr>\n",
       "    <tr>\n",
       "      <th>max</th>\n",
       "      <td>28.643967</td>\n",
       "      <td>99.808260</td>\n",
       "      <td>2.561300</td>\n",
       "      <td>19.240300</td>\n",
       "    </tr>\n",
       "  </tbody>\n",
       "</table>\n",
       "</div>"
      ],
      "text/plain": [
       "       Temperature_Celsius  Relative_Humidity            VPD  DEWPOINT_Celsius\n",
       "count        233924.000000      233924.000000  233924.000000     233924.000000\n",
       "mean              6.506390          67.239271       0.414069          0.240799\n",
       "std               7.970312          17.459970       0.421722          6.793514\n",
       "min             -10.781494          15.617889       0.001900        -14.292800\n",
       "25%               0.007954          55.021805       0.135000         -4.885800\n",
       "50%               5.467030          70.534270       0.251700         -1.205050\n",
       "75%              12.320366          80.978910       0.520825          5.547700\n",
       "max              28.643967          99.808260       2.561300         19.240300"
      ]
     },
     "execution_count": 10,
     "metadata": {},
     "output_type": "execute_result"
    }
   ],
   "source": [
    "meteo_data.describe()"
   ]
  },
  {
   "cell_type": "markdown",
   "id": "29da072a",
   "metadata": {},
   "source": [
    "# Середні значення показників по місяцях"
   ]
  },
  {
   "cell_type": "code",
   "execution_count": 11,
   "id": "0902d775",
   "metadata": {},
   "outputs": [
    {
     "data": {
      "text/html": [
       "<div>\n",
       "<style scoped>\n",
       "    .dataframe tbody tr th:only-of-type {\n",
       "        vertical-align: middle;\n",
       "    }\n",
       "\n",
       "    .dataframe tbody tr th {\n",
       "        vertical-align: top;\n",
       "    }\n",
       "\n",
       "    .dataframe thead th {\n",
       "        text-align: right;\n",
       "    }\n",
       "</style>\n",
       "<table border=\"1\" class=\"dataframe\">\n",
       "  <thead>\n",
       "    <tr style=\"text-align: right;\">\n",
       "      <th></th>\n",
       "      <th>Temperature_Celsius</th>\n",
       "      <th>Relative_Humidity</th>\n",
       "      <th>VPD</th>\n",
       "      <th>DEWPOINT_Celsius</th>\n",
       "    </tr>\n",
       "    <tr>\n",
       "      <th>months</th>\n",
       "      <th></th>\n",
       "      <th></th>\n",
       "      <th></th>\n",
       "      <th></th>\n",
       "    </tr>\n",
       "  </thead>\n",
       "  <tbody>\n",
       "    <tr>\n",
       "      <th>January</th>\n",
       "      <td>-0.519204</td>\n",
       "      <td>77.272075</td>\n",
       "      <td>0.143719</td>\n",
       "      <td>-4.168665</td>\n",
       "    </tr>\n",
       "    <tr>\n",
       "      <th>February</th>\n",
       "      <td>2.636490</td>\n",
       "      <td>69.090018</td>\n",
       "      <td>0.245345</td>\n",
       "      <td>-2.672834</td>\n",
       "    </tr>\n",
       "    <tr>\n",
       "      <th>March</th>\n",
       "      <td>2.909378</td>\n",
       "      <td>58.798660</td>\n",
       "      <td>0.403840</td>\n",
       "      <td>-5.473093</td>\n",
       "    </tr>\n",
       "    <tr>\n",
       "      <th>April</th>\n",
       "      <td>7.258133</td>\n",
       "      <td>70.175830</td>\n",
       "      <td>0.354353</td>\n",
       "      <td>1.669866</td>\n",
       "    </tr>\n",
       "    <tr>\n",
       "      <th>May</th>\n",
       "      <td>15.372196</td>\n",
       "      <td>58.869959</td>\n",
       "      <td>0.808000</td>\n",
       "      <td>6.729007</td>\n",
       "    </tr>\n",
       "    <tr>\n",
       "      <th>June</th>\n",
       "      <td>18.702162</td>\n",
       "      <td>73.316560</td>\n",
       "      <td>0.675308</td>\n",
       "      <td>13.397967</td>\n",
       "    </tr>\n",
       "  </tbody>\n",
       "</table>\n",
       "</div>"
      ],
      "text/plain": [
       "          Temperature_Celsius  Relative_Humidity       VPD  DEWPOINT_Celsius\n",
       "months                                                                      \n",
       "January             -0.519204          77.272075  0.143719         -4.168665\n",
       "February             2.636490          69.090018  0.245345         -2.672834\n",
       "March                2.909378          58.798660  0.403840         -5.473093\n",
       "April                7.258133          70.175830  0.354353          1.669866\n",
       "May                 15.372196          58.869959  0.808000          6.729007\n",
       "June                18.702162          73.316560  0.675308         13.397967"
      ]
     },
     "execution_count": 11,
     "metadata": {},
     "output_type": "execute_result"
    }
   ],
   "source": [
    "meteo_data_grouped_mean=meteo_data.groupby('months').mean()\n",
    "\n",
    "#Групування зведеної таблиці по місяцях в послідовному порядку (відповідно до послідовності в списку 'cats'),\n",
    "#а не за алфавітом\n",
    "#https://stackoverflow.com/questions/40816144/pandas-series-sort-by-month-index\n",
    "cats = ['January', 'February', 'March', 'April','May','June', 'July', 'August','September', 'October', 'November', 'December']\n",
    "meteo_data_grouped_mean.index=pd.CategoricalIndex(meteo_data_grouped_mean.index, categories=cats, ordered=True)\n",
    "meteo_data_grouped_mean=meteo_data_grouped_mean.sort_index()\n",
    "\n",
    "meteo_data_grouped_mean"
   ]
  },
  {
   "cell_type": "code",
   "execution_count": 12,
   "id": "c66d8e78",
   "metadata": {},
   "outputs": [],
   "source": [
    "grouped_mean=meteo_data.groupby('date').mean().rename(columns={'Temperature_Celsius':  'mean_temperature_celsius',\n",
    "                                                               'Relative_Humidity': 'mean_relative_humidity',\n",
    "                                                               'VPD': 'mean_vpd',\n",
    "                                                               'DEWPOINT_Celsius': 'mean_dewpoint_celsius'})"
   ]
  },
  {
   "cell_type": "code",
   "execution_count": 13,
   "id": "7b1500e6",
   "metadata": {},
   "outputs": [],
   "source": [
    "#Розрахунок середніх денних показників та виокремлення окремої колонки активних середньодобових температур,\n",
    "#де середньодобова температура більша 10 град. цельсія.\n",
    "grouped_mean['act_mean_temperature_celsius']=grouped_mean['mean_temperature_celsius'].apply(lambda x: x if x >10 else 0)\n",
    "grouped_mean[\"months\"]=pd.to_datetime(grouped_mean.index).month_name()\n",
    "\n",
    "#grouped_mean.sample(5)"
   ]
  },
  {
   "cell_type": "markdown",
   "id": "17922ce7",
   "metadata": {},
   "source": [
    "# Сума активних температур"
   ]
  },
  {
   "cell_type": "code",
   "execution_count": 14,
   "id": "8c184310",
   "metadata": {},
   "outputs": [
    {
     "data": {
      "image/png": "[encoded data removed]",
      "text/plain": [
       "<Figure size 432x288 with 1 Axes>"
      ]
     },
     "metadata": {
      "needs_background": "light"
     },
     "output_type": "display_data"
    }
   ],
   "source": [
    "grouped_sum=grouped_mean.groupby('months').sum()\n",
    "\n",
    "#Групування зведеної таблиці по місяцях в послідовному порядку (відповідно до послідовності в списку 'cats'),\n",
    "#а не за алфавітом\n",
    "#https://stackoverflow.com/questions/40816144/pandas-series-sort-by-month-index\n",
    "cats = ['January', 'February', 'March', 'April','May','June', 'July', 'August','September', 'October', 'November', 'December']\n",
    "grouped_sum.index=pd.CategoricalIndex(grouped_sum.index, categories=cats, ordered=True)\n",
    "grouped_sum=grouped_sum.sort_index()\n",
    "\n",
    "#Налаштування відображення гістограми\n",
    "#https://matplotlib.org/3.5.0/plot_types/basic/bar.html#sphx-glr-plot-types-basic-bar-py\n",
    "\n",
    "labels=grouped_sum.index\n",
    "sum_act_temp=grouped_sum['act_mean_temperature_celsius']\n",
    "width = 0.90\n",
    "\n",
    "fig, ax = plt.subplots()\n",
    "\n",
    "bar1=ax.bar(labels, sum_act_temp, width, label='Сума активних температур', color='orange')\n",
    "\n",
    "ax.set_ylabel('Активні температури, гр. цельсія')\n",
    "ax.set_title('Сума активних температур по місяцях')\n",
    "ax.legend()\n",
    "\n",
    "ax.bar_label(bar1, padding=1)\n",
    "\n",
    "plt.show()"
   ]
  },
  {
   "cell_type": "markdown",
   "id": "8a352a3f",
   "metadata": {},
   "source": [
    "## Значення суми активних температур 2022 р. (в р-ні с. Новичка, Калуського району)"
   ]
  },
  {
   "cell_type": "code",
   "execution_count": 15,
   "id": "471082b6",
   "metadata": {},
   "outputs": [
    {
     "name": "stdout",
     "output_type": "stream",
     "text": [
      "Сума активних температур (>10 гр. цельсія) становить 828.63  гр. цельсія\n"
     ]
    }
   ],
   "source": [
    "print('Сума активних температур (>10 гр. цельсія) становить', grouped_mean['act_mean_temperature_celsius'].sum().round(decimals=2),' гр. цельсія')"
   ]
  },
  {
   "cell_type": "code",
   "execution_count": null,
   "id": "4750cf1b",
   "metadata": {},
   "outputs": [],
   "source": []
  },
  {
   "cell_type": "code",
   "execution_count": null,
   "id": "e4a4cf22",
   "metadata": {},
   "outputs": [],
   "source": []
  }
 ],
 "metadata": {
  "kernelspec": {
   "display_name": "Python 3 (ipykernel)",
   "language": "python",
   "name": "python3"
  },
  "language_info": {
   "codemirror_mode": {
    "name": "ipython",
    "version": 3
   },
   "file_extension": ".py",
   "mimetype": "text/x-python",
   "name": "python",
   "nbconvert_exporter": "python",
   "pygments_lexer": "ipython3",
   "version": "3.9.7"
  }
 },
 "nbformat": 4,
 "nbformat_minor": 5
}
